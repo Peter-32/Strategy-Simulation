{
 "cells": [
  {
   "cell_type": "code",
   "execution_count": 66,
   "metadata": {},
   "outputs": [],
   "source": [
    "import random\n",
    "\n",
    "class Ship:\n",
    "    def __init__(self, attack, defense, health):\n",
    "        self.attack, self.defense, self.health = attack, defense, health\n",
    "        self.remainingDefense, self.alive, self.priority = self.defense, True, attack / (defense + health)\n",
    "        \n",
    "    def setHealth(self, health):\n",
    "        self.health = health if health > 0 else 0\n",
    "        self.alive = True if health > 0 else False\n",
    "        \n",
    "    def setRemainingDefense(self, remainingDefense):\n",
    "        self.remainingDefense = remainingDefense if remainingDefense > 0 else 0    \n",
    "            \n",
    "    def attack(self, enemyShip):\n",
    "        attackAmount = self._getRandomNumber(self.attack)\n",
    "        defenseAmount = self._getRandomNumber(enemyShip.remainingDefense)\n",
    "        print(\"attackAmount={}\".format(attackAmount))\n",
    "        print(\"defenseAmount={}\".format(defenseAmount))        \n",
    "        \n",
    "        blockedAmount = attackAmount if defenseAmount >= attackAmount else defenseAmount\n",
    "        healthLost = 0 if defenseAmount >= attackAmount else attackAmount - defenseAmount\n",
    "        \n",
    "        enemyShip.setRemainingDefense( enemyShip.remainingDefense - blockedAmount )\n",
    "        enemyShip.setHealth( enemyShip.health - healthLost )\n",
    "        \n",
    "    def _getRandomNumber(self, upperBound):\n",
    "        return random.randint(0,upperBound) # includes bounds\n",
    "        \n",
    "    def getInfo(self):\n",
    "        return \"Ship [attack=\" + str(self.attack) + \", defense=\" + str(self.defense) + \", health=\" + str(self.health) + \", remainingDefense=\" + str(self.remainingDefense) + \", alive=\" + str(self.alive) + \", priority=\" + str(self.priority) + \"]\"\n",
    "\n",
    "class BattleCalculatorUtility:\n",
    "    def __init__(self):\n",
    "        pass\n",
    "    \n",
    "    def sortFleetByPrioritization(self, fleet):\n",
    "        fleet.ships.sort(key=lambda x: x.priority, reverse=True)\n",
    "    \n",
    "    def removeFirstShipFromFleetIfDestroyed(self, fleet):\n",
    "        if len(fleet.ships) == 0:\n",
    "            return\n",
    "        if not fleet.ships[0].alive:\n",
    "            fleet.removeShip(fleet.ships[0])\n",
    "            \n",
    "    def resetRemainingDefenses(self, fleet):\n",
    "        for ship in fleet:\n",
    "            ship.setRemainingDefense(ship.defense)    \n",
    "    \n",
    "class Fleet:\n",
    "    def __init__(self):\n",
    "        self.ships = []\n",
    "        self.battleCalculatorUtility = BattleCalculatorUtility\n",
    "        \n",
    "    def addShip(self, ship):\n",
    "        self.ships.append(ship)\n",
    "\n",
    "    def removeShip(self, ship):\n",
    "        self.ships.remove(ship)        \n",
    "        \n",
    "    def attack(self, enemyFleet):\n",
    "        self.battleCalculatorUtility.sortFleetByPrioritization(self)\n",
    "        self.battleCalculatorUtility.sortFleetByPrioritization(enemyFleet)\n",
    "        \n",
    "        \n",
    "        while len(self.ships) != 0 and len(enemyFleet.ships) != 0:\n",
    "            i, j = 0, 0\n",
    "            while i < len(self.ships) and j < len(enemyFleet.ships):\n",
    "                self.ships[i].attack(enemyFleet.ships[0])\n",
    "                enemyFleet.ships[j].attack(self.ships[0])\n",
    "                battleCalculatorUtility.removeFirstShipFromFleetIfDestroyed(self)\n",
    "                battleCalculatorUtility.removeFirstShipFromFleetIfDestroyed(enemyFleet)                                                            \n",
    "                i, j = i + 1, j + 1\n",
    "            while i < len(self.ships):\n",
    "                self.ships[i].attack(enemyFleet.ships[0])\n",
    "                battleCalculatorUtility.removeFirstShipFromFleetIfDestroyed(enemyFleet)\n",
    "                i = i + 1\n",
    "            while j < len(enemyFleet.ships):\n",
    "                enemyFleet.ships[i].attack(self.ships[0])\n",
    "                battleCalculatorUtility.removeFirstShipFromFleetIfDestroyed(self)\n",
    "                j = j + 1\n",
    "            battleCalculatorUtility.resetRemainingDefenses(self)\n",
    "            battleCalculatorUtility.resetRemainingDefenses(enemyFleet)\n",
    "                \n",
    "        \n",
    "#         \t\tint i = 0, j = 0;\n",
    "# \t\t// establish ordering of attacking and defending\n",
    "# \t\tBattleCalculatorUtility.sortFleetByPrioritization(this);\n",
    "# \t\tBattleCalculatorUtility.sortFleetByPrioritization(enemyFleet);\n",
    "\t\t\n",
    "# \t\t// check to see if any fleets are completely destroyed\n",
    "# \t\twhile (!this.getShips().isEmpty() && !enemyFleet.getShips().isEmpty()) {\n",
    "# \t\t\t// loop through each ship\n",
    "\t\t\t\n",
    "# \t\t\tfor (i = 0, j = 0; i < this.getShips().size() && j < enemyFleet.getShips().size(); i++, j++) {\n",
    "# \t\t\t\t// both ships fire at the target\n",
    "# \t\t\t\t// first at the first index always (it is sorted for highest priority)\n",
    "# \t\t\t\t// don't evaluate if a ship is destroyed until after each ship has a chance to fire\n",
    "# \t\t\t\tthis.getShips().get(i).fire(enemyFleet.getShips().get(0));\n",
    "# \t\t\t\tenemyFleet.getShips().get(j).fire(this.getShips().get(0));\n",
    "\t\t\t\t\n",
    "# \t\t\t\t// check if a ship has been destroyed\n",
    "# \t\t\t\tBattleCalculatorUtility.removeFirstShipFromFleetIfDestroyed(this);\n",
    "# \t\t\t\tBattleCalculatorUtility.removeFirstShipFromFleetIfDestroyed(enemyFleet);\n",
    "\t\t\t\t\n",
    "# \t\t\t\tif (this.getShips().isEmpty() || enemyFleet.getShips().isEmpty()) {\n",
    "# \t\t\t\t\treturn;\n",
    "# \t\t\t\t}\n",
    "# \t\t\t}\n",
    "# \t\t\t// finish looping through any remaining ships that haven't fired\n",
    "# \t\t\tfor (; i < this.getShips().size(); i++) {\n",
    "# \t\t\t\tthis.getShips().get(i).fire(enemyFleet.getShips().get(0));\n",
    "# \t\t\t\tBattleCalculatorUtility.removeFirstShipFromFleetIfDestroyed(enemyFleet);\n",
    "\t\t\t\t\n",
    "# \t\t\t\tif (enemyFleet.getShips().isEmpty()) {\n",
    "# \t\t\t\t\treturn;\n",
    "# \t\t\t\t}\n",
    "# \t\t\t}\n",
    "# \t\t\tfor (; j < enemyFleet.getShips().size(); j++) {\n",
    "# \t\t\t\tenemyFleet.getShips().get(j).fire(this.getShips().get(0));\n",
    "# \t\t\t\tBattleCalculatorUtility.removeFirstShipFromFleetIfDestroyed(this);\n",
    "\t\t\t\t\n",
    "# \t\t\t\tif (this.getShips().isEmpty()) {\n",
    "# \t\t\t\t\treturn;\n",
    "# \t\t\t\t}\n",
    "# \t\t\t}\n",
    "\t\t\t\n",
    "# \t\t\t// reset defenses\n",
    "# \t\t\tBattleCalculatorUtility.resetRemainingDefenses(this);\n",
    "# \t\t\tBattleCalculatorUtility.resetRemainingDefenses(enemyFleet);\n",
    "\t\t\t\n",
    "# \t\t\t// round is over. Start a new round?\n",
    "# \t\t}\n",
    "\t\t\n",
    "        \n",
    "\n",
    "    \n",
    "\n",
    "        \n",
    "        "
   ]
  },
  {
   "cell_type": "code",
   "execution_count": 3,
   "metadata": {
    "collapsed": true
   },
   "outputs": [],
   "source": [
    "def main():\n",
    "    print(\"HI\")"
   ]
  },
  {
   "cell_type": "code",
   "execution_count": 4,
   "metadata": {},
   "outputs": [
    {
     "name": "stdout",
     "output_type": "stream",
     "text": [
      "HI\n"
     ]
    }
   ],
   "source": [
    "if __name__ == \"__main__\":\n",
    "    main()"
   ]
  },
  {
   "cell_type": "code",
   "execution_count": 67,
   "metadata": {},
   "outputs": [
    {
     "name": "stdout",
     "output_type": "stream",
     "text": [
      "7.142857142857143\n",
      "Ship [attack=50, defense=4, health=3, remainingDefense=4, alive=True, priority=7.142857142857143]\n",
      "3.3333333333333335\n",
      "Ship [attack=10, defense=0, health=3, remainingDefense=0, alive=True, priority=3.3333333333333335]\n",
      "2.857142857142857\n",
      "Ship [attack=20, defense=4, health=3, remainingDefense=4, alive=True, priority=2.857142857142857]\n"
     ]
    }
   ],
   "source": [
    "ship1 = Ship(50,4,3)\n",
    "ship2 = Ship(20,4,3)\n",
    "ship3 = Ship(10,0,3)\n",
    "fleet = Fleet()\n",
    "fleet.addShip(ship1)\n",
    "fleet.addShip(ship2)\n",
    "fleet.addShip(ship3)\n",
    "battleCalculatorUtility = BattleCalculatorUtility()\n",
    "\n",
    "#ship1.setHealth(0)\n",
    "battleCalculatorUtility.removeFirstShipFromFleetIfDestroyed(fleet)    \n",
    "\n",
    "battleCalculatorUtility.sortFleetByPrioritization(fleet)\n",
    "\n",
    "for ship in fleet.ships:\n",
    "    print(ship.priority)\n",
    "    print(ship.getInfo())\n",
    "    \n",
    "\n"
   ]
  },
  {
   "cell_type": "code",
   "execution_count": 41,
   "metadata": {},
   "outputs": [
    {
     "data": {
      "text/plain": [
       "['B', 'B', 'A']"
      ]
     },
     "execution_count": 41,
     "metadata": {},
     "output_type": "execute_result"
    }
   ],
   "source": [
    "a.remove('A')\n",
    "a\n",
    "#a.append(\"A\")\n",
    "a"
   ]
  },
  {
   "cell_type": "code",
   "execution_count": null,
   "metadata": {
    "collapsed": true
   },
   "outputs": [],
   "source": []
  }
 ],
 "metadata": {
  "kernelspec": {
   "display_name": "Python 3",
   "language": "python",
   "name": "python3"
  },
  "language_info": {
   "codemirror_mode": {
    "name": "ipython",
    "version": 3
   },
   "file_extension": ".py",
   "mimetype": "text/x-python",
   "name": "python",
   "nbconvert_exporter": "python",
   "pygments_lexer": "ipython3",
   "version": "3.6.1"
  }
 },
 "nbformat": 4,
 "nbformat_minor": 2
}
