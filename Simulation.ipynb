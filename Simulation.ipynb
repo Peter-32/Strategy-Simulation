{
 "cells": [
  {
   "cell_type": "code",
   "execution_count": 123,
   "metadata": {},
   "outputs": [],
   "source": [
    "import random\n",
    "\n",
    "class Ship:\n",
    "    def __init__(self, attack, defense, health):\n",
    "        self.attack, self.defense, self.health = attack, defense, health\n",
    "        self.remainingDefense, self.alive, self.priority = self.defense, True, attack / (defense + health)\n",
    "        \n",
    "    def setHealth(self, health):\n",
    "        self.health = health if health > 0 else 0\n",
    "        self.alive = True if health > 0 else False\n",
    "        \n",
    "    def setRemainingDefense(self, remainingDefense):\n",
    "        self.remainingDefense = remainingDefense if remainingDefense > 0 else 0    \n",
    "            \n",
    "    def fire(self, enemyShip):\n",
    "        attackAmount = self._getRandomNumber(self.attack)\n",
    "        defenseAmount = self._getRandomNumber(enemyShip.remainingDefense)\n",
    "        \n",
    "        blockedAmount = attackAmount if defenseAmount >= attackAmount else defenseAmount\n",
    "        healthLost = 0 if defenseAmount >= attackAmount else attackAmount - defenseAmount\n",
    "        \n",
    "        enemyShip.setRemainingDefense( enemyShip.remainingDefense - blockedAmount )\n",
    "        enemyShip.setHealth( enemyShip.health - healthLost )\n",
    "        \n",
    "    def _getRandomNumber(self, upperBound):\n",
    "        return random.randint(0,upperBound) # includes bounds\n",
    "        \n",
    "    def getInfo(self):\n",
    "        return \"Ship [attack=\" + str(self.attack) + \", defense=\" + str(self.defense) + \", health=\" + str(self.health) + \", remainingDefense=\" + str(self.remainingDefense) + \", alive=\" + str(self.alive) + \", priority=\" + str(self.priority) + \"]\"\n",
    "\n",
    "class BattleCalculatorUtility:\n",
    "    def __init__(self):\n",
    "        pass\n",
    "    \n",
    "    def sortFleetByPrioritization(self, fleet):\n",
    "        fleet.ships.sort(key=lambda x: x.priority, reverse=True)\n",
    "    \n",
    "    def isFirstShipDestroyed(self, fleet):\n",
    "        if len(fleet.ships) == 0:\n",
    "            return False        \n",
    "        return True if not fleet.ships[0].alive else False              \n",
    "    \n",
    "    def removeFirstShipFromFleetIfDestroyed(self, fleet):\n",
    "        if len(fleet.ships) == 0:\n",
    "            return\n",
    "        if not fleet.ships[0].alive:\n",
    "            fleet.removeShip(fleet.ships[0])\n",
    "            \n",
    "    def resetRemainingDefenses(self, fleet):\n",
    "        for ship in fleet.ships:\n",
    "            ship.setRemainingDefense(ship.defense)    \n",
    "    \n",
    "class Fleet:\n",
    "    def __init__(self):\n",
    "        self.ships = []\n",
    "        self.battleCalculatorUtility = BattleCalculatorUtility\n",
    "        \n",
    "    def addShip(self, ship):\n",
    "        self.ships.append(ship)\n",
    "\n",
    "    def removeShip(self, ship):\n",
    "        self.ships.remove(ship)        \n",
    "        \n",
    "    def attack(self, enemyFleet):\n",
    "        self.battleCalculatorUtility.sortFleetByPrioritization(battleCalculatorUtility, self)\n",
    "        self.battleCalculatorUtility.sortFleetByPrioritization(battleCalculatorUtility, enemyFleet)\n",
    "        \n",
    "        while len(self.ships) != 0 and len(enemyFleet.ships) != 0:\n",
    "            i, j = 0, 0\n",
    "            while i < len(self.ships) and j < len(enemyFleet.ships):\n",
    "                self.ships[i].fire(enemyFleet.ships[0])\n",
    "                enemyFleet.ships[j].fire(self.ships[0])\n",
    "                \n",
    "                if battleCalculatorUtility.isFirstShipDestroyed(self):\n",
    "                    i = i - 1\n",
    "                if battleCalculatorUtility.isFirstShipDestroyed(enemyFleet):\n",
    "                    j = j - 1                                        \n",
    "                    \n",
    "                battleCalculatorUtility.removeFirstShipFromFleetIfDestroyed(self)\n",
    "                battleCalculatorUtility.removeFirstShipFromFleetIfDestroyed(enemyFleet)  \n",
    "                \n",
    "                i, j = i + 1, j + 1\n",
    "            while i < len(self.ships) and len(enemyFleet.ships) != 0:\n",
    "                self.ships[i].fire(enemyFleet.ships[0])\n",
    "                battleCalculatorUtility.removeFirstShipFromFleetIfDestroyed(enemyFleet)\n",
    "                i = i + 1\n",
    "            while j < len(enemyFleet.ships) and len(self.ships) != 0:\n",
    "                enemyFleet.ships[j].fire(self.ships[0])\n",
    "                battleCalculatorUtility.removeFirstShipFromFleetIfDestroyed(self)\n",
    "                j = j + 1\n",
    "            battleCalculatorUtility.resetRemainingDefenses(self)\n",
    "            battleCalculatorUtility.resetRemainingDefenses(enemyFleet)                            "
   ]
  },
  {
   "cell_type": "code",
   "execution_count": 74,
   "metadata": {
    "collapsed": true
   },
   "outputs": [],
   "source": [
    "def main():\n",
    "    print(\"HI\")"
   ]
  },
  {
   "cell_type": "code",
   "execution_count": 75,
   "metadata": {},
   "outputs": [
    {
     "name": "stdout",
     "output_type": "stream",
     "text": [
      "HI\n"
     ]
    }
   ],
   "source": [
    "if __name__ == \"__main__\":\n",
    "    main()"
   ]
  },
  {
   "cell_type": "markdown",
   "metadata": {},
   "source": [
    "## Tier 1\n",
    "#### Minimal defense\n",
    "All sizes: 1 armor OR 2 missle defense OR 2 beam defense"
   ]
  },
  {
   "cell_type": "code",
   "execution_count": 150,
   "metadata": {},
   "outputs": [
    {
     "name": "stdout",
     "output_type": "stream",
     "text": [
      "Priorities\n",
      "0.375\n",
      "Ship [attack=9, defense=4, health=20, remainingDefense=4, alive=True, priority=0.375]\n",
      "0.4166666666666667\n",
      "Ship [attack=5, defense=4, health=8, remainingDefense=4, alive=True, priority=0.4166666666666667]\n",
      "0.4444444444444444\n",
      "Ship [attack=4, defense=4, health=5, remainingDefense=4, alive=True, priority=0.4444444444444444]\n",
      "\n",
      "\n",
      "\n",
      "\n",
      "\n",
      "Your Ships:\n",
      "Ship [attack=4, defense=4, health=1, remainingDefense=4, alive=True, priority=0.4444444444444444]\n",
      "Ship [attack=5, defense=4, health=8, remainingDefense=4, alive=True, priority=0.4166666666666667]\n",
      "Ship [attack=9, defense=4, health=20, remainingDefense=4, alive=True, priority=0.375]\n",
      "Enemy Ships:\n"
     ]
    }
   ],
   "source": [
    "print(\"Priorities\")\n",
    "    \n",
    "ship1 = Ship(9,4,20)\n",
    "ship2 = Ship(5,4,8)\n",
    "ship3 = Ship(4,4,5)\n",
    "fleet = Fleet()\n",
    "fleet.addShip(ship1)\n",
    "fleet.addShip(ship2)\n",
    "fleet.addShip(ship3)\n",
    "battleCalculatorUtility = BattleCalculatorUtility()\n",
    "\n",
    "for ship in fleet.ships:\n",
    "    print(ship.priority)\n",
    "    print(ship.getInfo())\n",
    "    \n",
    "eShip1 = Ship(4,0,8)\n",
    "eShip2 = Ship(4,0,8)\n",
    "eShip3 = Ship(4,0,8)\n",
    "eShip4 = Ship(4,0,8)\n",
    "enemyFleet = Fleet()\n",
    "enemyFleet.addShip(eShip1)\n",
    "enemyFleet.addShip(eShip2)\n",
    "enemyFleet.addShip(eShip3)\n",
    "enemyFleet.addShip(eShip4)\n",
    "\n",
    "fleet.attack(enemyFleet)\n",
    "\n",
    "print(\"\\n\\n\\n\\n\\nYour Ships:\")\n",
    "for ship in fleet.ships:\n",
    "    print(ship.getInfo())\n",
    "    \n",
    "print(\"Enemy Ships:\")    \n",
    "for ship in enemyFleet.ships:\n",
    "    print(ship.getInfo())    \n",
    "    \n",
    "\n"
   ]
  },
  {
   "cell_type": "markdown",
   "metadata": {},
   "source": [
    "#### More defense\n",
    "Try a trade off and measure the score (1 attack equals 4 defense).\n",
    "Which has the highest score?"
   ]
  },
  {
   "cell_type": "code",
   "execution_count": 112,
   "metadata": {},
   "outputs": [
    {
     "ename": "TypeError",
     "evalue": "'int' object is not callable",
     "output_type": "error",
     "traceback": [
      "\u001b[0;31m---------------------------------------------------------------------------\u001b[0m",
      "\u001b[0;31mTypeError\u001b[0m                                 Traceback (most recent call last)",
      "\u001b[0;32m<ipython-input-112-308478035666>\u001b[0m in \u001b[0;36m<module>\u001b[0;34m()\u001b[0m\n\u001b[0;32m----> 1\u001b[0;31m \u001b[0mship1\u001b[0m\u001b[0;34m.\u001b[0m\u001b[0mattack\u001b[0m\u001b[0;34m(\u001b[0m\u001b[0meShip1\u001b[0m\u001b[0;34m)\u001b[0m\u001b[0;34m\u001b[0m\u001b[0m\n\u001b[0m",
      "\u001b[0;31mTypeError\u001b[0m: 'int' object is not callable"
     ]
    }
   ],
   "source": [
    "ship1.attack(eShip1)"
   ]
  },
  {
   "cell_type": "code",
   "execution_count": null,
   "metadata": {
    "collapsed": true
   },
   "outputs": [],
   "source": []
  }
 ],
 "metadata": {
  "kernelspec": {
   "display_name": "Python 3",
   "language": "python",
   "name": "python3"
  },
  "language_info": {
   "codemirror_mode": {
    "name": "ipython",
    "version": 3
   },
   "file_extension": ".py",
   "mimetype": "text/x-python",
   "name": "python",
   "nbconvert_exporter": "python",
   "pygments_lexer": "ipython3",
   "version": "3.6.1"
  }
 },
 "nbformat": 4,
 "nbformat_minor": 2
}
