{
 "cells": [
  {
   "cell_type": "code",
   "execution_count": 24,
   "metadata": {},
   "outputs": [],
   "source": [
    "import random\n",
    "\n",
    "class Ship:\n",
    "    def __init__(self, attack, defense, health):\n",
    "        self.attack, self.defense, self.health = attack, defense, health\n",
    "        self.remainingDefense, self.alive, self.priority = self.defense, True, attack / (defense + health)\n",
    "        \n",
    "    def setHealth(self, health):\n",
    "        self.health = health if health > 0 else 0\n",
    "        self.alive = True if health > 0 else False\n",
    "        \n",
    "    def setRemainingDefense(self, remainingDefense):\n",
    "        self.remainingDefense = remainingDefense if remainingDefense > 0 else 0    \n",
    "            \n",
    "    def fire(self, enemyShip):\n",
    "        attackAmount = _getRandomNumber(self.attack)\n",
    "        defenseAmount = _getRandomNumber(enemyShip.remainingDefense)\n",
    "        \n",
    "        blockedAmount = attackAmount if defenseAmount >= attackAmount else defenseAmount\n",
    "        healthLost = 0 if defenseAmount >= attackAmount else attackAmount - defenseAmount\n",
    "        \n",
    "        enemyShip.setRemainingDefense( enemyShip.remainingDefense - blockedAmount )\n",
    "        enemyShip.setHealth( enemyShip.health - healthLost )\n",
    "        \n",
    "        \n",
    "        \n",
    "    def _getRandomNumber(upperBound):\n",
    "        random.randint(0,upperBound) # includes bounds\n",
    "\n",
    "        \n",
    "        "
   ]
  },
  {
   "cell_type": "code",
   "execution_count": 6,
   "metadata": {},
   "outputs": [
    {
     "name": "stdout",
     "output_type": "stream",
     "text": [
      "HI\n"
     ]
    }
   ],
   "source": [
    "if __name__ == \"__main__\":\n",
    "    main()"
   ]
  },
  {
   "cell_type": "code",
   "execution_count": 5,
   "metadata": {},
   "outputs": [],
   "source": [
    "def main():\n",
    "    print(\"HI\")"
   ]
  },
  {
   "cell_type": "code",
   "execution_count": 26,
   "metadata": {},
   "outputs": [
    {
     "name": "stdout",
     "output_type": "stream",
     "text": [
      "0.7142857142857143\n"
     ]
    }
   ],
   "source": [
    "ship1 = Ship(5,4,3)\n",
    "print(ship1.priority)"
   ]
  },
  {
   "cell_type": "code",
   "execution_count": 36,
   "metadata": {},
   "outputs": [
    {
     "name": "stdout",
     "output_type": "stream",
     "text": [
      "21\n",
      "21\n",
      "21\n"
     ]
    }
   ],
   "source": [
    "\n",
    "for x in range(100):\n",
    "    y = random.randint(0,21)\n",
    "    if y == 21:\n",
    "      print(y)\n",
    "#print(random.randint(0,21))"
   ]
  },
  {
   "cell_type": "code",
   "execution_count": null,
   "metadata": {
    "collapsed": true
   },
   "outputs": [],
   "source": []
  }
 ],
 "metadata": {
  "kernelspec": {
   "display_name": "Python 3",
   "language": "python",
   "name": "python3"
  },
  "language_info": {
   "codemirror_mode": {
    "name": "ipython",
    "version": 3
   },
   "file_extension": ".py",
   "mimetype": "text/x-python",
   "name": "python",
   "nbconvert_exporter": "python",
   "pygments_lexer": "ipython3",
   "version": "3.6.1"
  }
 },
 "nbformat": 4,
 "nbformat_minor": 2
}
