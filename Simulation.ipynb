{
 "cells": [
  {
   "cell_type": "code",
   "execution_count": 153,
   "metadata": {},
   "outputs": [],
   "source": [
    "import random\n",
    "\n",
    "class Ship:\n",
    "    def __init__(self, attack, defense, health):\n",
    "        self.attack, self.defense, self.health = attack, defense, health\n",
    "        self.remainingDefense, self.alive, self.priority = self.defense, True, attack / (defense + health)\n",
    "        \n",
    "    def setHealth(self, health):\n",
    "        self.health = health if health > 0 else 0\n",
    "        self.alive = True if health > 0 else False\n",
    "        self.setPriority()\n",
    "        \n",
    "    def setPriority(self):\n",
    "        self.priority = 0 if (self.defense + self.health) == 0 else self.attack / (self.defense + self.health)\n",
    "        \n",
    "    def setRemainingDefense(self, remainingDefense):\n",
    "        self.remainingDefense = remainingDefense if remainingDefense > 0 else 0    \n",
    "            \n",
    "    def fire(self, enemyShip):\n",
    "        attackAmount = self._getRandomNumber(self.attack)\n",
    "        defenseAmount = self._getRandomNumber(enemyShip.remainingDefense)\n",
    "        \n",
    "        blockedAmount = attackAmount if defenseAmount >= attackAmount else defenseAmount\n",
    "        healthLost = 0 if defenseAmount >= attackAmount else attackAmount - defenseAmount\n",
    "        \n",
    "        enemyShip.setRemainingDefense( enemyShip.remainingDefense - blockedAmount )\n",
    "        enemyShip.setHealth( enemyShip.health - healthLost )\n",
    "        \n",
    "    def _getRandomNumber(self, upperBound):\n",
    "        return random.randint(0,upperBound) # includes bounds\n",
    "        \n",
    "    def getInfo(self):\n",
    "        return \"Ship [attack=\" + str(self.attack) + \", defense=\" + str(self.defense) + \", health=\" + str(self.health) + \", remainingDefense=\" + str(self.remainingDefense) + \", alive=\" + str(self.alive) + \", priority=\" + str(self.priority) + \"]\"\n",
    "\n",
    "class BattleCalculatorUtility:\n",
    "    def __init__(self):\n",
    "        pass\n",
    "    \n",
    "    def sortFleetByPrioritization(self, fleet):\n",
    "        fleet.ships.sort(key=lambda x: x.priority, reverse=True)\n",
    "    \n",
    "    def isFirstShipDestroyed(self, fleet):\n",
    "        if len(fleet.ships) == 0:\n",
    "            return False        \n",
    "        return True if not fleet.ships[0].alive else False              \n",
    "    \n",
    "    def removeFirstShipFromFleetIfDestroyed(self, fleet):\n",
    "        if len(fleet.ships) == 0:\n",
    "            return\n",
    "        if not fleet.ships[0].alive:\n",
    "            fleet.removeShip(fleet.ships[0])\n",
    "            \n",
    "    def resetRemainingDefenses(self, fleet):\n",
    "        for ship in fleet.ships:\n",
    "            ship.setRemainingDefense(ship.defense)    \n",
    "    \n",
    "class Fleet:\n",
    "    def __init__(self):\n",
    "        self.ships = []\n",
    "        self.battleCalculatorUtility = BattleCalculatorUtility\n",
    "        \n",
    "    def addShip(self, ship):\n",
    "        self.ships.append(ship)\n",
    "\n",
    "    def removeShip(self, ship):\n",
    "        self.ships.remove(ship)        \n",
    "        \n",
    "    def attack(self, enemyFleet):\n",
    "        self.battleCalculatorUtility.sortFleetByPrioritization(battleCalculatorUtility, self)\n",
    "        self.battleCalculatorUtility.sortFleetByPrioritization(battleCalculatorUtility, enemyFleet)\n",
    "        \n",
    "        while len(self.ships) != 0 and len(enemyFleet.ships) != 0:\n",
    "            i, j = 0, 0\n",
    "            while i < len(self.ships) and j < len(enemyFleet.ships):\n",
    "                self.ships[i].fire(enemyFleet.ships[0])\n",
    "                enemyFleet.ships[j].fire(self.ships[0])\n",
    "                \n",
    "                if self.battleCalculatorUtility.isFirstShipDestroyed(battleCalculatorUtility, self):\n",
    "                    i = i - 1\n",
    "                if self.battleCalculatorUtility.isFirstShipDestroyed(battleCalculatorUtility, enemyFleet):\n",
    "                    j = j - 1                                        \n",
    "                    \n",
    "                self.battleCalculatorUtility.removeFirstShipFromFleetIfDestroyed(battleCalculatorUtility, self)\n",
    "                self.battleCalculatorUtility.removeFirstShipFromFleetIfDestroyed(battleCalculatorUtility, enemyFleet)  \n",
    "                \n",
    "                i, j = i + 1, j + 1\n",
    "            while i < len(self.ships) and len(enemyFleet.ships) != 0:\n",
    "                self.ships[i].fire(enemyFleet.ships[0])\n",
    "                self.battleCalculatorUtility.removeFirstShipFromFleetIfDestroyed(battleCalculatorUtility, enemyFleet)\n",
    "                i = i + 1\n",
    "            while j < len(enemyFleet.ships) and len(self.ships) != 0:\n",
    "                enemyFleet.ships[j].fire(self.ships[0])\n",
    "                self.battleCalculatorUtility.removeFirstShipFromFleetIfDestroyed(battleCalculatorUtility, self)\n",
    "                j = j + 1\n",
    "            self.battleCalculatorUtility.resetRemainingDefenses(battleCalculatorUtility, self)\n",
    "            self.battleCalculatorUtility.resetRemainingDefenses(battleCalculatorUtility, enemyFleet)                            "
   ]
  },
  {
   "cell_type": "code",
   "execution_count": 74,
   "metadata": {
    "collapsed": true
   },
   "outputs": [],
   "source": [
    "def main():\n",
    "    print(\"HI\")"
   ]
  },
  {
   "cell_type": "code",
   "execution_count": 75,
   "metadata": {},
   "outputs": [
    {
     "name": "stdout",
     "output_type": "stream",
     "text": [
      "HI\n"
     ]
    }
   ],
   "source": [
    "if __name__ == \"__main__\":\n",
    "    main()"
   ]
  },
  {
   "cell_type": "markdown",
   "metadata": {},
   "source": [
    "## Tier 1\n",
    "#### Each 4 defense is:\n",
    "1 armor OR 2 missle defense OR 2 beam defense"
   ]
  },
  {
   "cell_type": "code",
   "execution_count": 169,
   "metadata": {
    "collapsed": true
   },
   "outputs": [],
   "source": [
    "def recreateEnemyFleet():\n",
    "    eShip1 = Ship(4,0,8)\n",
    "    eShip2 = Ship(4,0,8)\n",
    "    eShip3 = Ship(4,0,8)\n",
    "    eShip4 = Ship(4,0,8)\n",
    "    enemyFleet = Fleet()\n",
    "    enemyFleet.addShip(eShip1)\n",
    "    enemyFleet.addShip(eShip2)\n",
    "    enemyFleet.addShip(eShip3)\n",
    "    enemyFleet.addShip(eShip4)\n",
    "    return enemyFleet\n",
    "\n",
    "enemyFleet = recreateEnemyFleet()\n",
    "    "
   ]
  },
  {
   "cell_type": "code",
   "execution_count": 170,
   "metadata": {},
   "outputs": [
    {
     "data": {
      "text/plain": [
       "0.6370192307692308"
      ]
     },
     "execution_count": 170,
     "metadata": {},
     "output_type": "execute_result"
    }
   ],
   "source": [
    "def getScore(fleet):\n",
    "    score = 0\n",
    "    for ship in fleet.ships:\n",
    "        score = score + ship.priority\n",
    "    return score\n",
    "        \n",
    "getScore(fleet)"
   ]
  },
  {
   "cell_type": "code",
   "execution_count": null,
   "metadata": {
    "collapsed": true
   },
   "outputs": [],
   "source": []
  },
  {
   "cell_type": "code",
   "execution_count": 193,
   "metadata": {},
   "outputs": [
    {
     "name": "stdout",
     "output_type": "stream",
     "text": [
      "Priorities\n",
      "FleetA\n",
      "0.375\n",
      "Ship [attack=9, defense=4, health=20, remainingDefense=4, alive=True, priority=0.375]\n",
      "0.4166666666666667\n",
      "Ship [attack=5, defense=4, health=8, remainingDefense=4, alive=True, priority=0.4166666666666667]\n",
      "0.4444444444444444\n",
      "Ship [attack=4, defense=4, health=5, remainingDefense=4, alive=True, priority=0.4444444444444444]\n",
      "\n",
      "\n",
      "FleetB\n",
      "0.21875\n",
      "Ship [attack=7, defense=12, health=20, remainingDefense=12, alive=True, priority=0.21875]\n",
      "0.25\n",
      "Ship [attack=4, defense=8, health=8, remainingDefense=8, alive=True, priority=0.25]\n",
      "0.23076923076923078\n",
      "Ship [attack=3, defense=8, health=5, remainingDefense=8, alive=True, priority=0.23076923076923078]\n",
      "\n",
      "\n",
      "FleetC\n",
      "0.09090909090909091\n",
      "Ship [attack=4, defense=24, health=20, remainingDefense=24, alive=True, priority=0.09090909090909091]\n",
      "0.08333333333333333\n",
      "Ship [attack=2, defense=16, health=8, remainingDefense=16, alive=True, priority=0.08333333333333333]\n",
      "0.11764705882352941\n",
      "Ship [attack=2, defense=12, health=5, remainingDefense=12, alive=True, priority=0.11764705882352941]\n",
      "\n",
      "\n",
      "FleetD\n",
      "0.038461538461538464\n",
      "Ship [attack=2, defense=32, health=20, remainingDefense=32, alive=True, priority=0.038461538461538464]\n",
      "0.03571428571428571\n",
      "Ship [attack=1, defense=20, health=8, remainingDefense=20, alive=True, priority=0.03571428571428571]\n",
      "0.047619047619047616\n",
      "Ship [attack=1, defense=16, health=5, remainingDefense=16, alive=True, priority=0.047619047619047616]\n"
     ]
    }
   ],
   "source": [
    "\n",
    "print(\"Priorities\")\n",
    "print(\"FleetA\")\n",
    "ship1A = Ship(9,4,20)\n",
    "ship2A = Ship(5,4,8)\n",
    "ship3A = Ship(4,4,5)\n",
    "fleetA = Fleet()\n",
    "fleetA.addShip(ship1A)\n",
    "fleetA.addShip(ship2A)\n",
    "fleetA.addShip(ship3A)\n",
    "battleCalculatorUtility = BattleCalculatorUtility()\n",
    "for ship in fleetA.ships:\n",
    "    print(ship.priority)\n",
    "    print(ship.getInfo())\n",
    "    \n",
    "print(\"\\n\\nFleetB\")    \n",
    "ship1B = Ship(7,12,20)\n",
    "ship2B = Ship(4,8,8)\n",
    "ship3B = Ship(3,8,5)\n",
    "fleetB = Fleet()\n",
    "fleetB.addShip(ship1B)\n",
    "fleetB.addShip(ship2B)\n",
    "fleetB.addShip(ship3B)\n",
    "for ship in fleetB.ships:\n",
    "    print(ship.priority)\n",
    "    print(ship.getInfo())\n",
    "\n",
    "print(\"\\n\\nFleetC\")    \n",
    "ship1C = Ship(4,24,20)\n",
    "ship2C = Ship(2,16,8)\n",
    "ship3C = Ship(2,12,5)\n",
    "fleetC = Fleet()\n",
    "fleetC.addShip(ship1C)\n",
    "fleetC.addShip(ship2C)\n",
    "fleetC.addShip(ship3C)\n",
    "for ship in fleetC.ships:\n",
    "    print(ship.priority)\n",
    "    print(ship.getInfo())\n",
    "    \n",
    "print(\"\\n\\nFleetD\")    \n",
    "ship1D = Ship(2,32,20)\n",
    "ship2D = Ship(1,20,8)\n",
    "ship3D = Ship(1,16,5)\n",
    "fleetD = Fleet()\n",
    "fleetD.addShip(ship1D)\n",
    "fleetD.addShip(ship2D)\n",
    "fleetD.addShip(ship3D)\n",
    "for ship in fleetD.ships:\n",
    "    print(ship.priority)\n",
    "    print(ship.getInfo())    \n",
    "    \n",
    "\n"
   ]
  },
  {
   "cell_type": "code",
   "execution_count": 194,
   "metadata": {
    "collapsed": true
   },
   "outputs": [],
   "source": [
    "def recreateFleetA():    \n",
    "    ship1A = Ship(9,4,20)\n",
    "    ship2A = Ship(5,4,8)\n",
    "    ship3A = Ship(4,4,5)\n",
    "    fleetA = Fleet()\n",
    "    fleetA.addShip(ship1A)\n",
    "    fleetA.addShip(ship2A)\n",
    "    fleetA.addShip(ship3A)\n",
    "    return fleetA\n",
    "\n",
    "def recreateFleetB():    \n",
    "    ship1B = Ship(7,12,20)\n",
    "    ship2B = Ship(4,8,8)\n",
    "    ship3B = Ship(3,8,5)\n",
    "    fleetB = Fleet()\n",
    "    fleetB.addShip(ship1B)\n",
    "    fleetB.addShip(ship2B)\n",
    "    fleetB.addShip(ship3B)\n",
    "    return fleetB\n",
    "\n",
    "def recreateFleetC():    \n",
    "    ship1C = Ship(4,24,20)\n",
    "    ship2C = Ship(2,16,8)\n",
    "    ship3C = Ship(2,12,5)\n",
    "    fleetC = Fleet()\n",
    "    fleetC.addShip(ship1C)\n",
    "    fleetC.addShip(ship2C)\n",
    "    fleetC.addShip(ship3C)\n",
    "    return fleetC\n",
    "\n",
    "def recreateFleetD():    \n",
    "    ship1D = Ship(2,32,20)\n",
    "    ship2D = Ship(1,20,8)\n",
    "    ship3D = Ship(1,16,5)\n",
    "    fleetD = Fleet()\n",
    "    fleetD.addShip(ship1D)\n",
    "    fleetD.addShip(ship2D)\n",
    "    fleetD.addShip(ship3D)\n",
    "    return fleetD    "
   ]
  },
  {
   "cell_type": "markdown",
   "metadata": {},
   "source": [
    "Take the tiny ship.  Take one attack off it.  Get the priority.  Get the closest priority for the small ship.\n",
    "\n",
    "Get the closest priority under those priorities for the medium ship."
   ]
  },
  {
   "cell_type": "markdown",
   "metadata": {},
   "source": [
    "#### Results"
   ]
  },
  {
   "cell_type": "code",
   "execution_count": 167,
   "metadata": {},
   "outputs": [
    {
     "name": "stdout",
     "output_type": "stream",
     "text": [
      "Priorities\n",
      "0.21875\n",
      "Ship [attack=7, defense=12, health=20, remainingDefense=12, alive=True, priority=0.21875]\n",
      "0.1875\n",
      "Ship [attack=3, defense=8, health=8, remainingDefense=8, alive=True, priority=0.1875]\n",
      "0.23076923076923078\n",
      "Ship [attack=3, defense=8, health=5, remainingDefense=8, alive=True, priority=0.23076923076923078]\n",
      "\n",
      "\n",
      "\n",
      "\n",
      "\n",
      "Your Ships:\n",
      "Ship [attack=3, defense=8, health=5, remainingDefense=8, alive=True, priority=0.23076923076923078]\n",
      "Ship [attack=7, defense=12, health=20, remainingDefense=12, alive=True, priority=0.21875]\n",
      "Ship [attack=3, defense=8, health=8, remainingDefense=8, alive=True, priority=0.1875]\n",
      "Enemy Ships:\n"
     ]
    }
   ],
   "source": [
    "totalScoreA = 0\n",
    "totalScoreB = 0\n",
    "totalScoreC = 0\n",
    "totalScoreD = 0\n",
    "\n",
    "for i in range(100):\n",
    "    enemyFleet = recreateEnemyFleet()    \n",
    "    fleetA = recreateFleetA\n",
    "    fleetB = recreateFleetB\n",
    "    fleetC = recreateFleetC\n",
    "    fleetD = recreateFleetD\n",
    "\n",
    "    FleetA.attack(enemyFleet)\n",
    "    FleetB.attack(enemyFleet)\n",
    "    FleetC.attack(enemyFleet)\n",
    "    FleetD.attack(enemyFleet)\n",
    "    totalScoreA = totalScoreA + getScore(fleetA)\n",
    "    totalScoreB = totalScoreB + getScore(fleetB)\n",
    "    totalScoreC = totalScoreC + getScore(fleetC)\n",
    "    totalScoreD = totalScoreD + getScore(fleetD)\n"
   ]
  },
  {
   "cell_type": "code",
   "execution_count": null,
   "metadata": {
    "collapsed": true
   },
   "outputs": [],
   "source": []
  }
 ],
 "metadata": {
  "kernelspec": {
   "display_name": "Python 3",
   "language": "python",
   "name": "python3"
  },
  "language_info": {
   "codemirror_mode": {
    "name": "ipython",
    "version": 3
   },
   "file_extension": ".py",
   "mimetype": "text/x-python",
   "name": "python",
   "nbconvert_exporter": "python",
   "pygments_lexer": "ipython3",
   "version": "3.6.1"
  }
 },
 "nbformat": 4,
 "nbformat_minor": 2
}
