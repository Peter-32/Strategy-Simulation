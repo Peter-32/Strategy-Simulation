{
 "cells": [
  {
   "cell_type": "code",
   "execution_count": 27,
   "metadata": {
    "collapsed": true
   },
   "outputs": [],
   "source": [
    "import random\n",
    "\n",
    "class Ship:\n",
    "    def __init__(self, attack, defense, health):\n",
    "        self.attack, self.defense, self.health = attack, defense, health\n",
    "        self.remainingDefense, self.alive, self.priority = self.defense, True, attack / (defense + health)\n",
    "        \n",
    "    def setHealth(self, health):\n",
    "        self.health = health if health > 0 else 0\n",
    "        self.alive = True if health > 0 else False\n",
    "        \n",
    "    def setRemainingDefense(self, remainingDefense):\n",
    "        self.remainingDefense = remainingDefense if remainingDefense > 0 else 0    \n",
    "            \n",
    "    def fire(self, enemyShip):\n",
    "        attackAmount = self._getRandomNumber(self.attack)\n",
    "        defenseAmount = self._getRandomNumber(enemyShip.remainingDefense)\n",
    "        print(\"attackAmount={}\".format(attackAmount))\n",
    "        print(\"defenseAmount={}\".format(defenseAmount))        \n",
    "        \n",
    "        blockedAmount = attackAmount if defenseAmount >= attackAmount else defenseAmount\n",
    "        healthLost = 0 if defenseAmount >= attackAmount else attackAmount - defenseAmount\n",
    "        \n",
    "        enemyShip.setRemainingDefense( enemyShip.remainingDefense - blockedAmount )\n",
    "        enemyShip.setHealth( enemyShip.health - healthLost )\n",
    "        \n",
    "    def _getRandomNumber(self, upperBound):\n",
    "        return random.randint(0,upperBound) # includes bounds\n",
    "        \n",
    "    def getInfo(self):\n",
    "        return \"Ship [attack=\" + str(self.attack) + \", defense=\" + str(self.defense) + \", health=\" + str(self.health) + \", remainingDefense=\" + str(self.remainingDefense) + \", alive=\" + str(self.alive) + \", priority=\" + str(self.priority) + \"]\"\n",
    "        \n",
    "class Fleet:\n",
    "    def __init__(self):\n",
    "        self.ships = []\n",
    "        \n",
    "    def addShip(self, ship):\n",
    "        self.ships.append(ship)\n",
    "\n",
    "    def removeShip(self, ship):\n",
    "        self.ships.remove(ship)        \n",
    "        \n",
    "        \n",
    "\n",
    "    \n",
    "\n",
    "        \n",
    "        "
   ]
  },
  {
   "cell_type": "code",
   "execution_count": 3,
   "metadata": {
    "collapsed": true
   },
   "outputs": [],
   "source": [
    "def main():\n",
    "    print(\"HI\")"
   ]
  },
  {
   "cell_type": "code",
   "execution_count": 4,
   "metadata": {},
   "outputs": [
    {
     "name": "stdout",
     "output_type": "stream",
     "text": [
      "HI\n"
     ]
    }
   ],
   "source": [
    "if __name__ == \"__main__\":\n",
    "    main()"
   ]
  },
  {
   "cell_type": "code",
   "execution_count": 30,
   "metadata": {},
   "outputs": [
    {
     "name": "stdout",
     "output_type": "stream",
     "text": [
      "attackAmount=6\n",
      "defenseAmount=2\n",
      "7.142857142857143\n",
      "Ship [attack=50, defense=4, health=0, remainingDefense=2, alive=False, priority=7.142857142857143]\n"
     ]
    }
   ],
   "source": [
    "ship1 = Ship(50,4,3)\n",
    "ship1.fire(ship1)\n",
    "print(ship1.priority)\n",
    "print(ship1.getInfo())"
   ]
  },
  {
   "cell_type": "code",
   "execution_count": 41,
   "metadata": {},
   "outputs": [
    {
     "data": {
      "text/plain": [
       "['B', 'B', 'A']"
      ]
     },
     "execution_count": 41,
     "metadata": {},
     "output_type": "execute_result"
    }
   ],
   "source": [
    "a.remove('A')\n",
    "a\n",
    "#a.append(\"A\")\n",
    "a"
   ]
  },
  {
   "cell_type": "code",
   "execution_count": null,
   "metadata": {
    "collapsed": true
   },
   "outputs": [],
   "source": []
  }
 ],
 "metadata": {
  "kernelspec": {
   "display_name": "Python 3",
   "language": "python",
   "name": "python3"
  },
  "language_info": {
   "codemirror_mode": {
    "name": "ipython",
    "version": 3
   },
   "file_extension": ".py",
   "mimetype": "text/x-python",
   "name": "python",
   "nbconvert_exporter": "python",
   "pygments_lexer": "ipython3",
   "version": "3.6.1"
  }
 },
 "nbformat": 4,
 "nbformat_minor": 2
}
